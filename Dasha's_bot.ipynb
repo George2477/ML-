{
 "cells": [
  {
   "cell_type": "code",
   "execution_count": 1,
   "id": "70cf90b2-bda3-4fa6-904e-7b72eaa46109",
   "metadata": {},
   "outputs": [
    {
     "name": "stdout",
     "output_type": "stream",
     "text": [
      "Defaulting to user installation because normal site-packages is not writeable\n",
      "Collecting pyTelegramBotAPI\n",
      "  Downloading pytelegrambotapi-4.29.1-py3-none-any.whl.metadata (48 kB)\n",
      "     ---------------------------------------- 0.0/48.3 kB ? eta -:--:--\n",
      "     ---------------- --------------------- 20.5/48.3 kB 330.3 kB/s eta 0:00:01\n",
      "     -------------------------------------- 48.3/48.3 kB 487.7 kB/s eta 0:00:00\n",
      "Requirement already satisfied: requests in c:\\programdata\\anaconda3\\lib\\site-packages (from pyTelegramBotAPI) (2.32.2)\n",
      "Requirement already satisfied: charset-normalizer<4,>=2 in c:\\programdata\\anaconda3\\lib\\site-packages (from requests->pyTelegramBotAPI) (2.0.4)\n",
      "Requirement already satisfied: idna<4,>=2.5 in c:\\programdata\\anaconda3\\lib\\site-packages (from requests->pyTelegramBotAPI) (3.7)\n",
      "Requirement already satisfied: urllib3<3,>=1.21.1 in c:\\programdata\\anaconda3\\lib\\site-packages (from requests->pyTelegramBotAPI) (2.2.2)\n",
      "Requirement already satisfied: certifi>=2017.4.17 in c:\\programdata\\anaconda3\\lib\\site-packages (from requests->pyTelegramBotAPI) (2024.6.2)\n",
      "Downloading pytelegrambotapi-4.29.1-py3-none-any.whl (294 kB)\n",
      "   ---------------------------------------- 0.0/294.8 kB ? eta -:--:--\n",
      "   --------------- ------------------------ 112.6/294.8 kB 2.2 MB/s eta 0:00:01\n",
      "   -------------------------------------- - 286.7/294.8 kB 2.9 MB/s eta 0:00:01\n",
      "   ---------------------------------------- 294.8/294.8 kB 2.6 MB/s eta 0:00:00\n",
      "Installing collected packages: pyTelegramBotAPI\n",
      "Successfully installed pyTelegramBotAPI-4.29.1\n",
      "Note: you may need to restart the kernel to use updated packages.\n"
     ]
    }
   ],
   "source": [
    "pip install pyTelegramBotAPI"
   ]
  },
  {
   "cell_type": "code",
   "execution_count": null,
   "id": "1d8f819b-7470-4418-a4ca-49a969e720a6",
   "metadata": {},
   "outputs": [
    {
     "name": "stdout",
     "output_type": "stream",
     "text": [
      "🚀 Бот запущен!\n"
     ]
    }
   ],
   "source": [
    "import telebot\n",
    "from telebot import types\n",
    "\n",
    "# Токен вашего бота\n",
    "BOT_TOKEN = \"8221105026:AAFaOr6QZSc9oWP8ohqQuiYOS4tkzLZippo\"\n",
    "\n",
    "bot = telebot.TeleBot(BOT_TOKEN)\n",
    "\n",
    "# Функция шифрования Цезаря\n",
    "def caesar_cipher(text, shift=3):\n",
    "    result = \"\"\n",
    "    for char in text:\n",
    "        if char.isalpha():\n",
    "            base = ord('А') if char.isupper() and 'А' <= char <= 'Я' else \\\n",
    "                   ord('а') if 'а' <= char <= 'я' else \\\n",
    "                   ord('A') if char.isupper() else ord('a')\n",
    "            # Поддержка кириллицы и латиницы\n",
    "            if 'А' <= char <= 'Я' or 'а' <= char <= 'я':\n",
    "                alphabet_len = 32  # Русский алфавит без ё\n",
    "            else:\n",
    "                alphabet_len = 26  # Английский алфавит\n",
    "            result += chr((ord(char) - base + shift) % alphabet_len + base)\n",
    "        else:\n",
    "            result += char\n",
    "    return result\n",
    "\n",
    "# Команда /start\n",
    "@bot.message_handler(commands=['start'])\n",
    "def send_welcome(message):\n",
    "    bot.reply_to(message, \"Привет! Я бот с шифрованием Цезаря 🔐.\\nОтправь мне текст — я его зашифрую!\\nИли пришли фото — я верну его тебе.\")\n",
    "\n",
    "# Команда /help\n",
    "@bot.message_handler(commands=['help'])\n",
    "def send_help(message):\n",
    "    help_text = (\n",
    "        \"🛠️ Доступные команды:\\n\"\n",
    "        \"/start — начать работу\\n\"\n",
    "        \"/help — показать эту справку\\n\"\n",
    "        \"/caesar — пример шифрования текста\\n\\n\"\n",
    "        \"Ты также можешь просто отправить:\\n\"\n",
    "        \"• Любой текст → я зашифрую его (сдвиг +3)\\n\"\n",
    "        \"• Фото → я пришлю его обратно\"\n",
    "    )\n",
    "    bot.reply_to(message, help_text)\n",
    "\n",
    "# Своя команда /caesar\n",
    "@bot.message_handler(commands=['caesar'])\n",
    "def demo_caesar(message):\n",
    "    example = \"Пример: Привет, мир!\"\n",
    "    encrypted = caesar_cipher(example)\n",
    "    bot.reply_to(message, f\"Исходный текст: {example}\\nЗашифровано: {encrypted}\")\n",
    "\n",
    "# Обработка текстовых сообщений\n",
    "@bot.message_handler(content_types=['text'])\n",
    "def handle_text(message):\n",
    "    encrypted = caesar_cipher(message.text)\n",
    "    bot.reply_to(message, f\"🔒 Зашифровано:\\n{encrypted}\")\n",
    "\n",
    "# Обработка фото\n",
    "@bot.message_handler(content_types=['photo'])\n",
    "def handle_photo(message):\n",
    "    # Берём файл с наивысшим разрешением (последний в списке)\n",
    "    file_id = message.photo[-1].file_id\n",
    "    bot.send_photo(message.chat.id, file_id, reply_to_message_id=message.message_id)\n",
    "\n",
    "# Запуск бота\n",
    "if __name__ == '__main__':\n",
    "    print(\"🚀 Бот запущен!\")\n",
    "    bot.infinity_polling()\n"
   ]
  },
  {
   "cell_type": "code",
   "execution_count": null,
   "id": "2ec6ec4e-ec94-4168-ba60-f79b04bd7219",
   "metadata": {},
   "outputs": [],
   "source": [
    "\n",
    "https://t.me/Dasha_78_bot"
   ]
  }
 ],
 "metadata": {
  "kernelspec": {
   "display_name": "Python 3 (ipykernel)",
   "language": "python",
   "name": "python3"
  },
  "language_info": {
   "codemirror_mode": {
    "name": "ipython",
    "version": 3
   },
   "file_extension": ".py",
   "mimetype": "text/x-python",
   "name": "python",
   "nbconvert_exporter": "python",
   "pygments_lexer": "ipython3",
   "version": "3.12.4"
  }
 },
 "nbformat": 4,
 "nbformat_minor": 5
}
